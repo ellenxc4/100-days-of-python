{
  "nbformat": 4,
  "nbformat_minor": 0,
  "metadata": {
    "colab": {
      "provenance": [],
      "authorship_tag": "ABX9TyORjKrLxZIwj60UT+TwExZP",
      "include_colab_link": true
    },
    "kernelspec": {
      "name": "python3",
      "display_name": "Python 3"
    },
    "language_info": {
      "name": "python"
    }
  },
  "cells": [
    {
      "cell_type": "markdown",
      "metadata": {
        "id": "view-in-github",
        "colab_type": "text"
      },
      "source": [
        "<a href=\"https://colab.research.google.com/github/ellenxc4/100-days-of-python/blob/main/100_Days_of_Python_Day_4.ipynb\" target=\"_parent\"><img src=\"https://colab.research.google.com/assets/colab-badge.svg\" alt=\"Open In Colab\"/></a>"
      ]
    },
    {
      "cell_type": "markdown",
      "source": [
        "\n",
        "Skills used:\n",
        "\n",
        "\n",
        "*   importing modules\n",
        "*   random functions\n",
        "*   lists\n",
        "*   index()\n",
        "*   append()\n",
        "*   len()\n",
        "*   nested lists\n",
        "\n"
      ],
      "metadata": {
        "id": "etilNGf84tv_"
      }
    },
    {
      "cell_type": "code",
      "execution_count": 4,
      "metadata": {
        "colab": {
          "base_uri": "https://localhost:8080/"
        },
        "id": "JT6ZjFXP4pyQ",
        "outputId": "9c72dac0-0e88-4803-fea6-8b257f740571"
      },
      "outputs": [
        {
          "output_type": "stream",
          "name": "stdout",
          "text": [
            "heads\n"
          ]
        }
      ],
      "source": [
        "# Coin flip simulator\n",
        "import random\n",
        "random_heads_or_tails = random.randint(1, 10)\n",
        "if random_heads_or_tails % 2 == 0:\n",
        "    print(\"heads\")\n",
        "else:\n",
        "    print(\"tails\")"
      ]
    },
    {
      "cell_type": "markdown",
      "source": [
        "Day 4 final project: Rock, Paper, Scissors game"
      ],
      "metadata": {
        "id": "yq_Ev-xN7qbr"
      }
    },
    {
      "cell_type": "code",
      "source": [
        "import random\n",
        "\n",
        "rock = '''\n",
        "    _______\n",
        "---'   ____)\n",
        "      (_____)\n",
        "      (_____)\n",
        "      (____)\n",
        "---.__(___)\n",
        "'''\n",
        "\n",
        "paper = '''\n",
        "    _______\n",
        "---'   ____)____\n",
        "          ______)\n",
        "          _______)\n",
        "         _______)\n",
        "---.__________)\n",
        "'''\n",
        "\n",
        "scissors = '''\n",
        "    _______\n",
        "---'   ____)____\n",
        "          ______)\n",
        "       __________)\n",
        "      (____)\n",
        "---.__(___)\n",
        "'''\n",
        "\n",
        "game_images = [rock, paper, scissors]\n",
        "\n",
        "player_choice = int(input(\"What do you choose? Type 0 for rock, 1 for paper, or 2 for scissors.\"))\n",
        "\n",
        "computer_play = random.randint(0,2)\n",
        "\n",
        "if player_choice >= 3 or player_choice < 0:\n",
        "    print(\"You typed an invalid number.\")\n",
        "\n",
        "# show user choice\n",
        "print(f\"You chose: {game_images[player_choice]}\")\n",
        "\n",
        "# show computer choice\n",
        "print(f\"I chose:{game_images[computer_play]}\")\n",
        "\n",
        "# evaluate who won & tell user what happened\n",
        "# evaluation = computer_play - player_choice\n",
        "# ties always equal zero\n",
        "# computer chooses 0 rock, player chooses 2 paper = -2 player wins\n",
        "# computer chooses 0 rock, player chooses 1 scissors = -1 computer wins\n",
        "# computer chooses 1 scissors, player chooses 2 paper = -1 computer wins\n",
        "# computer chooses 1 scissors, player chooses 0 rock = -1 player wins\n",
        "# computer chooses 2 paper, player chooses 0 rock = 2 computer wins\n",
        "# computer chooses 2 paper, player chooses 1 scissors = 1 player wins\n",
        "\n",
        "if player_choice == 0 and computer_play == 2:\n",
        "  print(\"You win.\")\n",
        "elif player_choice == computer_play:\n",
        "  print(\"It's a draw.\")\n",
        "elif player_choice > computer_play:\n",
        "  print(\"You win.\")\n",
        "elif computer_play == 0 and player_choice == 2:\n",
        "  print(\"You lose.\")\n",
        "elif computer_play > player_choice:\n",
        "  print(\"You lose.\")\n",
        "\n",
        "\n",
        "\n",
        "\n"
      ],
      "metadata": {
        "colab": {
          "base_uri": "https://localhost:8080/"
        },
        "id": "BZ_cTToT7zNt",
        "outputId": "f102eb58-046e-4c8a-c4e0-c107ba4a55b4"
      },
      "execution_count": 19,
      "outputs": [
        {
          "output_type": "stream",
          "name": "stdout",
          "text": [
            "What do you choose? Type 0 for rock, 1 for paper, or 2 for scissors.1\n",
            "You chose: \n",
            "    _______\n",
            "---'   ____)____\n",
            "          ______)\n",
            "          _______)\n",
            "         _______)\n",
            "---.__________)\n",
            "\n",
            "I chose:\n",
            "    _______\n",
            "---'   ____)____\n",
            "          ______)\n",
            "       __________)\n",
            "      (____)\n",
            "---.__(___)\n",
            "\n",
            "You lose.\n"
          ]
        }
      ]
    }
  ]
}