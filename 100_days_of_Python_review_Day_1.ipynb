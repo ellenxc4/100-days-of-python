{
  "nbformat": 4,
  "nbformat_minor": 0,
  "metadata": {
    "colab": {
      "provenance": [],
      "authorship_tag": "ABX9TyPCJdlOvJmYqMnob5edHcRj",
      "include_colab_link": true
    },
    "kernelspec": {
      "name": "python3",
      "display_name": "Python 3"
    },
    "language_info": {
      "name": "python"
    }
  },
  "cells": [
    {
      "cell_type": "markdown",
      "metadata": {
        "id": "view-in-github",
        "colab_type": "text"
      },
      "source": [
        "<a href=\"https://colab.research.google.com/github/ellenxc4/100-days-of-python/blob/main/100_days_of_Python_review_Day_1.ipynb\" target=\"_parent\"><img src=\"https://colab.research.google.com/assets/colab-badge.svg\" alt=\"Open In Colab\"/></a>"
      ]
    },
    {
      "cell_type": "code",
      "execution_count": 6,
      "metadata": {
        "colab": {
          "base_uri": "https://localhost:8080/"
        },
        "id": "9_9-luwuO9vi",
        "outputId": "3b39bd27-b7f6-411b-960f-77b58fcdf715"
      },
      "outputs": [
        {
          "output_type": "stream",
          "name": "stdout",
          "text": [
            "Welcome to the Band Name Generator. Let's find your band name.\n",
            "Enter the city that you grew up in \n",
            "Culpeper\n",
            "Type the name of a pet.\n",
            "Elmo\n",
            "You could have a band named Culpeper Elmo\n"
          ]
        }
      ],
      "source": [
        "print(\"Welcome to the Band Name Generator. Let's find your band name.\")\n",
        "\n",
        "city = input(\"Enter the city that you grew up in \\n\")\n",
        "\n",
        "pet_name = input(\"Type the name of a pet.\\n\")\n",
        "\n",
        "print(f\"You could have a band named {city} {pet_name}\")"
      ]
    }
  ]
}