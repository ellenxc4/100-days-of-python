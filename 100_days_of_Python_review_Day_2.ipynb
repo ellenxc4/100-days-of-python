{
  "nbformat": 4,
  "nbformat_minor": 0,
  "metadata": {
    "colab": {
      "provenance": [],
      "authorship_tag": "ABX9TyPsuYMVse1Q+JVLnZXoDkGm",
      "include_colab_link": true
    },
    "kernelspec": {
      "name": "python3",
      "display_name": "Python 3"
    },
    "language_info": {
      "name": "python"
    }
  },
  "cells": [
    {
      "cell_type": "markdown",
      "metadata": {
        "id": "view-in-github",
        "colab_type": "text"
      },
      "source": [
        "<a href=\"https://colab.research.google.com/github/ellenxc4/100-days-of-python/blob/main/100_days_of_Python_review_Day_2.ipynb\" target=\"_parent\"><img src=\"https://colab.research.google.com/assets/colab-badge.svg\" alt=\"Open In Colab\"/></a>"
      ]
    },
    {
      "cell_type": "markdown",
      "source": [
        "Working with Mathematical Operators\n",
        "\n",
        "Also learning to use:\n",
        "\n",
        "*   f strings\n",
        "*   input()\n",
        "*   float()\n",
        "*   int()\n",
        "*   round()\n",
        "*   review of some basic math to work out tips faster\n",
        "\n",
        "\n",
        "\n"
      ],
      "metadata": {
        "id": "GIHQBLULVH4D"
      }
    },
    {
      "cell_type": "code",
      "source": [
        "#BMI Calculator - coding exercise\n",
        "# Metric: BMI = weight (kg) / [height (m)]²\n",
        "# US Customary: BMI = [weight (pounds) / height (inches)²] * 703\n",
        "\n",
        "print(\"BMI Calculator - US Cusotmary\")\n",
        "weight = float(input(\"Enter your weight in pounds \\n\"))\n",
        "height = float(input(\"Enter your height in inches \\n\"))\n",
        "\n",
        "bmi = float((weight/pow(height, 2))*703)\n",
        "\n",
        "print(f\"Your BMI is {bmi}\")"
      ],
      "metadata": {
        "colab": {
          "base_uri": "https://localhost:8080/"
        },
        "id": "FCOCKjpwRkyL",
        "outputId": "323870a8-c415-4e11-f34e-056c70f7d8c7"
      },
      "execution_count": 5,
      "outputs": [
        {
          "output_type": "stream",
          "name": "stdout",
          "text": [
            "BMI Calculator - US Cusotmary\n",
            "Enter your weight in pounds \n",
            "130\n",
            "Enter your height in inches \n",
            "64\n",
            "Your BMI is 22.31201171875\n"
          ]
        }
      ]
    },
    {
      "cell_type": "code",
      "source": [
        "print(\"BMI - Metric System\")\n",
        "weight = float(input(\"Enter your weight in kilograms \\n\"))\n",
        "height = float(input(\"Enter your height in meters \\n\"))\n",
        "\n",
        "bmi = float((weight/pow(height, 2)))\n",
        "\n",
        "print(bmi)"
      ],
      "metadata": {
        "colab": {
          "base_uri": "https://localhost:8080/"
        },
        "id": "qlViHgtDT3gb",
        "outputId": "d8d65333-37fd-4d4b-908e-4c3226384177"
      },
      "execution_count": 7,
      "outputs": [
        {
          "output_type": "stream",
          "name": "stdout",
          "text": [
            "BMI - Metric System\n",
            "Enter your weight in kilograms \n",
            "84\n",
            "Enter your height in meters \n",
            "1.65\n",
            "30.85399449035813\n"
          ]
        }
      ]
    },
    {
      "cell_type": "markdown",
      "source": [
        "Day 2 Project: Tip Calculator"
      ],
      "metadata": {
        "id": "gV9s8zXWXt0C"
      }
    },
    {
      "cell_type": "code",
      "execution_count": 18,
      "metadata": {
        "colab": {
          "base_uri": "https://localhost:8080/"
        },
        "id": "svEg7Vg3Q8d2",
        "outputId": "e3a42f57-a689-439e-c826-6e06da93ac1c"
      },
      "outputs": [
        {
          "output_type": "stream",
          "name": "stdout",
          "text": [
            "This is the tip calculator.\n",
            "Enter the toal bill amount\n",
            "100\n",
            "What percent tip would you like to leave?\n",
            "20\n",
            "How many people are you splitting this bill with? \n",
            "7\n",
            "Each person should pay $17.14\n"
          ]
        }
      ],
      "source": [
        "print(\"This is the tip calculator.\")\n",
        "bill = float(input(\"Enter the toal bill amount\\n\"))\n",
        "tip = int(input(\"What percent tip would you like to leave?\\n\"))\n",
        "people = int(input(\"How many people are you splitting this bill with? \\n\"))\n",
        "\n",
        "# My first way defaulting to how I picture the equation in my head.\n",
        "#total_tip = (bill*tip)/100\n",
        "#total_bill = total_tip * bill\n",
        "#share = round(total_bill/people, 2)\n",
        "\n",
        "#faster, simpler math\n",
        "tip += 100\n",
        "multiplier = tip/100\n",
        "\n",
        "per_person = round((bill * multiplier)/people, 2)\n",
        "\n",
        "print(f\"Each person should pay ${per_person}\")"
      ]
    },
    {
      "cell_type": "markdown",
      "source": [
        "Bonus Project: Weekly Training Plan Generator\n",
        "I used the new Python skills to create a calculator to determine the weekly training outline following principles of Daniels Running Formula."
      ],
      "metadata": {
        "id": "ZsfFThmCX2uK"
      }
    },
    {
      "cell_type": "code",
      "source": [
        "#Daniels Running Formula Long Run Calculator\n",
        "\n",
        "weekly_mileage = int(input(\"How many miles will you run this week? \\n\"))\n",
        "\n",
        "days_running = int(input(\"How many days will you run this week? \\n\"))\n",
        "\n",
        "if weekly_mileage < 40:\n",
        "    long_run = weekly_mileage * 0.25\n",
        "    print(f\"Your long run should be + {long_run}\")\n",
        "elif weekly_mileage >= 40:\n",
        "    long_run = weekly_mileage * 0.3\n",
        "    print(f\"Run {long_run} this week for the long run.\")\n",
        "\n",
        "mlr = long_run*.8\n",
        "print(f\"Your medium long run should be {mlr}\")\n",
        "\n",
        "days_left = days_running - 2\n",
        "miles_left = weekly_mileage - mlr - long_run\n",
        "\n",
        "other_runs = miles_left/days_left\n",
        "print(f\"Your other {days_left} training runs should average {other_runs} miles\")"
      ],
      "metadata": {
        "colab": {
          "base_uri": "https://localhost:8080/"
        },
        "id": "v8w1Ua7LV0yR",
        "outputId": "39a6425e-1b79-483b-d869-48b276155713"
      },
      "execution_count": 11,
      "outputs": [
        {
          "output_type": "stream",
          "name": "stdout",
          "text": [
            "How many miles will you run this week? \n",
            "40\n",
            "How many days will you run this week? \n",
            "5\n",
            "Run 12.0 this week for the long run.\n",
            "Your medium long run should be 9.600000000000001\n",
            "Your other 3 training runs should average 6.133333333333333 miles\n"
          ]
        }
      ]
    }
  ]
}