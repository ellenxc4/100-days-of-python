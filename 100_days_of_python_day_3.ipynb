{
  "nbformat": 4,
  "nbformat_minor": 0,
  "metadata": {
    "colab": {
      "provenance": [],
      "authorship_tag": "ABX9TyNPHy0VdJgCghi4aO6ynnAc",
      "include_colab_link": true
    },
    "kernelspec": {
      "name": "python3",
      "display_name": "Python 3"
    },
    "language_info": {
      "name": "python"
    }
  },
  "cells": [
    {
      "cell_type": "markdown",
      "metadata": {
        "id": "view-in-github",
        "colab_type": "text"
      },
      "source": [
        "<a href=\"https://colab.research.google.com/github/ellenxc4/100-days-of-python/blob/main/100_days_of_python_day_3.ipynb\" target=\"_parent\"><img src=\"https://colab.research.google.com/assets/colab-badge.svg\" alt=\"Open In Colab\"/></a>"
      ]
    },
    {
      "cell_type": "markdown",
      "source": [
        "Skills used today:\n",
        "\n",
        "\n",
        "*   conditional statments (logical operators)\n",
        "*   nested if/elif/else statements\n",
        "*   multiple conditional statements\n",
        "*   .lower() function\n",
        "\n"
      ],
      "metadata": {
        "id": "f2_4C1nLrhg4"
      }
    },
    {
      "cell_type": "code",
      "execution_count": 16,
      "metadata": {
        "colab": {
          "base_uri": "https://localhost:8080/"
        },
        "id": "pfYPDWTapfWa",
        "outputId": "fb421836-ef51-4ea7-ceec-de7d842b80e3"
      },
      "outputs": [
        {
          "output_type": "stream",
          "name": "stdout",
          "text": [
            "Welcome to Python Pizza Deliveries!\n",
            "What size pizza do you want? S, M or L: S\n",
            "Do you want pepperoni on your pizza? Y or N: Y\n",
            "Do you want extra cheese? Y or N: N\n",
            "Your final bill is $ 17.\n"
          ]
        }
      ],
      "source": [
        "# Pizza Order\n",
        "\n",
        "print(\"Welcome to Python Pizza Deliveries!\")\n",
        "size = input(\"What size pizza do you want? S, M or L: \")\n",
        "pepperoni = input(\"Do you want pepperoni on your pizza? Y or N: \")\n",
        "extra_cheese = input(\"Do you want extra cheese? Y or N: \")\n",
        "\n",
        "bill = 15\n",
        "\n",
        "if extra_cheese == \"Y\":\n",
        "  bill += 1\n",
        "\n",
        "if size == \"M\":\n",
        "  bill += 5\n",
        "  if pepperoni == \"Y\":\n",
        "    bill += 3\n",
        "elif size == \"L\":\n",
        "  bill += 10\n",
        "  if pepperoni == \"Y\":\n",
        "    bill += 3\n",
        "elif size == \"S\":\n",
        "  if pepperoni == \"Y\":\n",
        "    bill += 2\n",
        "\n",
        "print(f\"Your final bill is $ {bill}.\")"
      ]
    },
    {
      "cell_type": "markdown",
      "source": [
        "Day 3 Project: Treasure Island Choose Your Own Adventure Game"
      ],
      "metadata": {
        "id": "y3lrQUiq9q9I"
      }
    },
    {
      "cell_type": "code",
      "source": [
        "print(r'''\n",
        "     .\n",
        "   .:;:.        .\n",
        " .:;;;;;:.        .\n",
        "   ;;;;;      . ;.\n",
        "   ;;;;;       .;\n",
        "   ;;;;;        ;;.                     .\n",
        "   ;;;;;      ;.;;       .. ............;;.\n",
        "   ;:;;;      ;;;;.       ..::::::::::::;;;;.\n",
        "   : ;;;      ;;;;;     . . ::::::::::::;;:'\n",
        "     ;:;      ;;;;;                     :'\n",
        "   . :.;      ;;;;;\n",
        "     . :      ;;;;;\n",
        "   .   .      ;;;;;\n",
        "            ..;;;;;..     ......\n",
        "      .      ':::::'      ;;;:;\n",
        "               ':`        ;::;;;.\n",
        "                          ' ':;;;;.   '.\n",
        "                              ':;;;;    '.\n",
        "                                ':;\n",
        "\n",
        "''')\n",
        "print(\"Welcome to Treasure Island.\")\n",
        "print(\"Your mission is to find the treasure.\")\n",
        "\n",
        "user_input = input(\"Do you adventure to the left or right? \\n\").lower()\n",
        "\n",
        "if user_input == \"right\":\n",
        "    print(\"You fell into a hole. Game over.\")\n",
        "elif user_input == \"left\":\n",
        "    print(\"You wander down the winding road and come upon a large body of water. People are buying boat tickets and forming a long line.\")\n",
        "    input_b = input(\"Do you get in line and wait for a boat to come or jump in the water to swim? Type 'wait' or 'swim'? \\n\").lower()\n",
        "\n",
        "    if input_b == \"swim\":\n",
        "        print(\"The fish eat you. Game over.\")\n",
        "    elif input_b == \"wait\":\n",
        "        print(\"A ferry arrives and takes you to a nearby island.\")\n",
        "        input_c = input(\"You come upon 3 closed doors. Choose to open one door. Type either 'red', 'blue', or 'yellow' to open that door. \\n\").lower()\n",
        "        if input_c == \"red\":\n",
        "            print(\"Burned by fire. Game over.\")\n",
        "        elif input_c == \"blue\":\n",
        "            print(\"Eaten by beasts. Game over.\")\n",
        "        elif input_c == \"yellow\":\n",
        "            print(\"You win!\")\n",
        "        else: print(f\"Invalid input: {input_c}\")\n",
        "    else:\n",
        "        print(\"Invalid input. Game over.\")\n",
        "else:\n",
        "    print(\"Invalid input. Restart the adventure.\")\n"
      ],
      "metadata": {
        "colab": {
          "base_uri": "https://localhost:8080/"
        },
        "id": "ppkyhxQx9v-K",
        "outputId": "ced0921c-974c-4b86-f14d-6f3585626e21"
      },
      "execution_count": 17,
      "outputs": [
        {
          "output_type": "stream",
          "name": "stdout",
          "text": [
            "\n",
            "     .\n",
            "   .:;:.        .\n",
            " .:;;;;;:.        .\n",
            "   ;;;;;      . ;.\n",
            "   ;;;;;       .;\n",
            "   ;;;;;        ;;.                     .\n",
            "   ;;;;;      ;.;;       .. ............;;.\n",
            "   ;:;;;      ;;;;.       ..::::::::::::;;;;.\n",
            "   : ;;;      ;;;;;     . . ::::::::::::;;:'\n",
            "     ;:;      ;;;;;                     :'\n",
            "   . :.;      ;;;;;\n",
            "     . :      ;;;;;\n",
            "   .   .      ;;;;;                 \n",
            "            ..;;;;;..     ......\n",
            "      .      ':::::'      ;;;:;\n",
            "               ':`        ;::;;;.\n",
            "                          ' ':;;;;.   '.\n",
            "                              ':;;;;    '.\n",
            "                                ':;\n",
            "\n",
            "\n",
            "Welcome to Treasure Island.\n",
            "Your mission is to find the treasure.\n",
            "Do you adventure to the left or right? \n",
            "left\n",
            "You wander down the winding road and come upon a large body of water. People are buying boat tickets and forming a long line.\n",
            "Do you get in line and wait for a boat to come or jump in the water to swim? Type 'wait' or 'swim'? \n",
            "wait\n",
            "A ferry arrives and takes you to a nearby island.\n",
            "You come upon 3 closed doors. Choose to open one door. Type either 'red', 'blue', or 'yellow' to open that door. \n",
            "yellow\n",
            "You win!\n"
          ]
        }
      ]
    }
  ]
}