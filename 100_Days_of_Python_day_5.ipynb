{
  "nbformat": 4,
  "nbformat_minor": 0,
  "metadata": {
    "colab": {
      "provenance": [],
      "authorship_tag": "ABX9TyNSgiCPMyMkDtn1L+2arUrZ",
      "include_colab_link": true
    },
    "kernelspec": {
      "name": "python3",
      "display_name": "Python 3"
    },
    "language_info": {
      "name": "python"
    }
  },
  "cells": [
    {
      "cell_type": "markdown",
      "metadata": {
        "id": "view-in-github",
        "colab_type": "text"
      },
      "source": [
        "<a href=\"https://colab.research.google.com/github/ellenxc4/100-days-of-python/blob/main/100_Days_of_Python_day_5.ipynb\" target=\"_parent\"><img src=\"https://colab.research.google.com/assets/colab-badge.svg\" alt=\"Open In Colab\"/></a>"
      ]
    },
    {
      "cell_type": "markdown",
      "source": [
        "Day 5 loops\n",
        "\n",
        "\n",
        "*   For loops\n",
        "*   For loops with Range() - loop through n times\n",
        "*   Random functions\n",
        "\n",
        "\n"
      ],
      "metadata": {
        "id": "XY0vsyYNNZuD"
      }
    },
    {
      "cell_type": "code",
      "execution_count": 3,
      "metadata": {
        "colab": {
          "base_uri": "https://localhost:8080/"
        },
        "id": "NbXhGgn4MdRX",
        "outputId": "9e1305c8-f198-441e-af68-d5910fab5211"
      },
      "outputs": [
        {
          "output_type": "stream",
          "name": "stdout",
          "text": [
            "91\n"
          ]
        }
      ],
      "source": [
        "# Find highest value in a list without using Max() function.\n",
        "\n",
        "grades = [8, 65, 89, 86, 55, 91, 64, 89]\n",
        "\n",
        "highest_grade = 0\n",
        "for grade in grades:\n",
        "  if grade > highest_grade:\n",
        "      highest_grade = grade\n",
        "print(highest_grade)"
      ]
    },
    {
      "cell_type": "code",
      "source": [
        "# The Gauss Challenge\n",
        "# Work out the total of the numbers between 1 and 100, inclusive of both 1 and 100.\n",
        "\n",
        "sum = 0\n",
        "for number in range (1, 101):\n",
        "  sum += number\n",
        "print(sum)\n",
        "\n"
      ],
      "metadata": {
        "colab": {
          "base_uri": "https://localhost:8080/"
        },
        "id": "HT321bJIOVP8",
        "outputId": "40375d13-4394-4b82-a884-9c69f250277d"
      },
      "execution_count": 5,
      "outputs": [
        {
          "output_type": "stream",
          "name": "stdout",
          "text": [
            "5050\n"
          ]
        }
      ]
    },
    {
      "cell_type": "markdown",
      "source": [
        "Final Project: Password Generator"
      ],
      "metadata": {
        "id": "111J6f_kPSlI"
      }
    },
    {
      "cell_type": "code",
      "source": [
        "import random\n",
        "\n",
        "letters = ['a', 'b', 'c', 'd', 'e', 'f', 'g', 'h', 'i', 'j', 'k', 'l', 'm', 'n', 'o', 'p', 'q', 'r', 's', 't', 'u', 'v', 'w', 'x', 'y', 'z', 'A', 'B', 'C', 'D', 'E', 'F', 'G', 'H', 'I', 'J', 'K', 'L', 'M', 'N', 'O', 'P', 'Q', 'R', 'S', 'T', 'U', 'V', 'W', 'X', 'Y', 'Z']\n",
        "numbers = ['0', '1', '2', '3', '4', '5', '6', '7', '8', '9']\n",
        "symbols = ['!', '#', '$', '%', '&', '(', ')', '*', '+']\n",
        "\n",
        "letters_choice = int(input(\"How many letters would you like in your password?\\n\"))\n",
        "numbers_choice = int(input(\"How many numbers would you like?\\n\"))\n",
        "symbols_choice = int(input(\"How many symbols would you like?\\n\"))\n",
        "\n",
        "letters_list = random.choices(letters, k=letters_choice)\n",
        "numbers_list = random.choices(numbers, k=numbers_choice)\n",
        "symbols_list = random.choices(symbols, k=symbols_choice)\n",
        "\n",
        "password = []\n",
        "for letter in letters_list:\n",
        "  password += letter\n",
        "\n",
        "for number in numbers_list:\n",
        "  password += number\n",
        "\n",
        "for symbol in symbols_list:\n",
        "  password += symbol\n",
        "\n",
        "randomized_password_list = random.shuffle(password)\n",
        "\n",
        "randomized_password = \"\"\n",
        "for x in password:\n",
        "  randomized_password += x\n",
        "# random.sample(password, len(password))\n",
        "\n",
        "print(f\"Your password is: {randomized_password}.\")"
      ],
      "metadata": {
        "colab": {
          "base_uri": "https://localhost:8080/"
        },
        "id": "fj4jdZlHPV9r",
        "outputId": "12a87d3d-1b8f-4ad1-8a51-12da48473962"
      },
      "execution_count": 34,
      "outputs": [
        {
          "output_type": "stream",
          "name": "stdout",
          "text": [
            "How many letters would you like in your password?\n",
            "18\n",
            "How many numbers would you like?\n",
            "3\n",
            "How many symbols would you like?\n",
            "1\n",
            "Your password is: Ppws%XrriPoksPX84JVrA3.\n"
          ]
        }
      ]
    }
  ]
}